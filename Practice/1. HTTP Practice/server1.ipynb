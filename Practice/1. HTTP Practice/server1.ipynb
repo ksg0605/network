{
 "metadata": {
  "language_info": {
   "codemirror_mode": {
    "name": "ipython",
    "version": 3
   },
   "file_extension": ".py",
   "mimetype": "text/x-python",
   "name": "python",
   "nbconvert_exporter": "python",
   "pygments_lexer": "ipython3",
   "version": "3.8.2-final"
  },
  "orig_nbformat": 2,
  "kernelspec": {
   "name": "python3",
   "display_name": "Python 3.8.2 64-bit",
   "metadata": {
    "interpreter": {
     "hash": "31f2aee4e71d21fbe5cf8b01ff0e069b9275f58929596ceb00d14d90e3e16cd6"
    }
   }
  }
 },
 "nbformat": 4,
 "nbformat_minor": 2,
 "cells": [
  {
   "cell_type": "code",
   "execution_count": 2,
   "metadata": {},
   "outputs": [],
   "source": [
    "from flask import Flask, request"
   ]
  },
  {
   "cell_type": "code",
   "execution_count": 3,
   "metadata": {},
   "outputs": [
    {
     "output_type": "stream",
     "name": "stdout",
     "text": [
      " * Serving Flask app \"__main__\" (lazy loading)\n",
      " * Environment: production\n",
      "\u001b[31m   WARNING: This is a development server. Do not use it in a production deployment.\u001b[0m\n",
      "\u001b[2m   Use a production WSGI server instead.\u001b[0m\n",
      " * Debug mode: off\n",
      " * Running on http://127.0.0.1:5000/ (Press CTRL+C to quit)\n",
      "127.0.0.1 - - [26/Mar/2021 20:46:07] \"\u001b[37mGET /query1 HTTP/1.1\u001b[0m\" 200 -\n",
      "127.0.0.1 - - [26/Mar/2021 20:46:28] \"\u001b[37mGET /query1 HTTP/1.1\u001b[0m\" 200 -\n"
     ]
    }
   ],
   "source": [
    "app = Flask(__name__)\n",
    "\n",
    "@app.route('/query1')\n",
    "def function1():\n",
    "    return \"GET\"\n",
    "\n",
    "@app.route('/query2', methods=[\"GET\", \"POST\"])\n",
    "def function2():\n",
    "    if request.method == \"GET\":\n",
    "        return \"GET\"\n",
    "\n",
    "    else:\n",
    "        return \"POST\"\n",
    "\n",
    "@app.route('/query3', methods=[\"GET\"])\n",
    "def function3_1():\n",
    "    print(request.args)\n",
    "    return \"GET\"\n",
    "\n",
    "@app.route('/query3', methods=[\"POST\"])\n",
    "def function3_2():\n",
    "    print(request.form)\n",
    "    return \"POST\"\n",
    "\n",
    "if __name__ == \"__main__\":\n",
    "    app.run()"
   ]
  },
  {
   "cell_type": "code",
   "execution_count": null,
   "metadata": {},
   "outputs": [],
   "source": []
  }
 ]
}