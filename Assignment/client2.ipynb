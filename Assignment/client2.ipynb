{
 "cells": [
  {
   "cell_type": "code",
   "execution_count": 1,
   "metadata": {},
   "outputs": [],
   "source": [
    "import requests\n",
    "# 메시지 전송 시간을 알려주기 위한 라이브러리\n",
    "import datetime\n",
    "time = datetime.datetime.now()"
   ]
  },
  {
   "cell_type": "code",
   "execution_count": 2,
   "metadata": {},
   "outputs": [
    {
     "output_type": "stream",
     "name": "stdout",
     "text": [
      " http://localhost:5000/join?name=sbkim&password=123456\nSUCCESS\n"
     ]
    }
   ],
   "source": [
    "command = \"join\"\n",
    "name = \"sbkim\"\n",
    "password = 123456\n",
    "url = \" http://localhost:5000/%s?name=%s&password=%s\"%(command, name, password)\n",
    "print(url)\n",
    "response = requests.get(url = url)\n",
    "print(response.text)"
   ]
  },
  {
   "cell_type": "code",
   "execution_count": 3,
   "metadata": {},
   "outputs": [
    {
     "output_type": "stream",
     "name": "stdout",
     "text": [
      " http://localhost:5000/join?name=skkim&password=123123\nSUCCESS\n"
     ]
    }
   ],
   "source": [
    "command = \"join\"\n",
    "name = \"skkim\"\n",
    "password = 123123\n",
    "url = \" http://localhost:5000/%s?name=%s&password=%s\"%(command, name, password)\n",
    "print(url)\n",
    "response = requests.get(url = url)\n",
    "print(response.text)"
   ]
  },
  {
   "cell_type": "code",
   "execution_count": 4,
   "metadata": {},
   "outputs": [
    {
     "output_type": "stream",
     "name": "stdout",
     "text": [
      " http://localhost:5000/join?name=wjyang&password=654321\nSUCCESS\n"
     ]
    }
   ],
   "source": [
    "command = \"join\"\n",
    "name = \"wjyang\"\n",
    "password = 654321\n",
    "url = \" http://localhost:5000/%s?name=%s&password=%s\"%(command, name, password)\n",
    "print(url)\n",
    "response = requests.get(url = url)\n",
    "print(response.text)"
   ]
  },
  {
   "cell_type": "code",
   "execution_count": 5,
   "metadata": {},
   "outputs": [
    {
     "output_type": "stream",
     "name": "stdout",
     "text": [
      "http://localhost:5000/write?name=sbkim&content=I am prof&password=123456&time=2021-03-27 18:33:36.293342\nSUCCESS\n"
     ]
    }
   ],
   "source": [
    "command = \"write\"\n",
    "name = \"sbkim\"\n",
    "password = 123456\n",
    "content = \"I am prof\"\n",
    "url = \"http://localhost:5000/%s?name=%s&content=%s&password=%s&time=%s\"%(command, name, content, password, time)\n",
    "print(url)\n",
    "response = requests.get(url = url)\n",
    "print(response.text)"
   ]
  },
  {
   "cell_type": "code",
   "execution_count": 6,
   "metadata": {},
   "outputs": [
    {
     "output_type": "stream",
     "name": "stdout",
     "text": [
      "http://localhost:5000/write?name=skkim&content=I am student&password=123123&time=2021-03-27 18:33:36.293342\nSUCCESS\n"
     ]
    }
   ],
   "source": [
    "command = \"write\"\n",
    "name = \"skkim\"\n",
    "password = 123123\n",
    "content = \"I am student\"\n",
    "url = \"http://localhost:5000/%s?name=%s&content=%s&password=%s&time=%s\"%(command, name, content, password, time)\n",
    "print(url)\n",
    "response = requests.get(url = url)\n",
    "print(response.text)"
   ]
  },
  {
   "cell_type": "code",
   "execution_count": 7,
   "metadata": {},
   "outputs": [
    {
     "output_type": "stream",
     "name": "stdout",
     "text": [
      "http://localhost:5000/update?name=sbkim\n\"[2021-03-27 18:33:36.293342]sbkim: I am prof \\n[2021-03-27 18:33:36.293342]skkim: I am student \\n\"\n\n"
     ]
    }
   ],
   "source": [
    "command = \"update\"\n",
    "name = \"sbkim\"\n",
    "url = \"http://localhost:5000/%s?name=%s\"%(command, name)\n",
    "print(url)\n",
    "response = requests.get(url = url)\n",
    "print(response.text)"
   ]
  },
  {
   "cell_type": "code",
   "execution_count": 8,
   "metadata": {},
   "outputs": [
    {
     "output_type": "stream",
     "name": "stdout",
     "text": [
      "http://localhost:5000/withdraw?name=mhhan\nFAIL\n2021-03-27 18:33:36.293342\n"
     ]
    }
   ],
   "source": [
    "command = \"withdraw\"\n",
    "name = \"mhhan\"\n",
    "url = \"http://localhost:5000/%s?name=%s\"%(command, name)\n",
    "print(url)\n",
    "response = requests.get(url = url)\n",
    "print(response.text)\n",
    "print(time)"
   ]
  },
  {
   "cell_type": "code",
   "execution_count": 9,
   "metadata": {},
   "outputs": [
    {
     "output_type": "stream",
     "name": "stdout",
     "text": [
      "http://localhost:5000/member_list?name=skkim\n[\"sbkim\",\"skkim\",\"wjyang\"]\n\n"
     ]
    }
   ],
   "source": [
    "command = \"member_list\"\n",
    "name = \"skkim\"\n",
    "url = \"http://localhost:5000/%s?name=%s\"%(command, name)\n",
    "print(url)\n",
    "response = requests.get(url=url)\n",
    "print(response.text)"
   ]
  },
  {
   "cell_type": "code",
   "execution_count": null,
   "metadata": {},
   "outputs": [],
   "source": []
  }
 ],
 "metadata": {
  "kernelspec": {
   "name": "python3",
   "display_name": "Python 3.9.2 64-bit",
   "metadata": {
    "interpreter": {
     "hash": "aee8b7b246df8f9039afb4144a1f6fd8d2ca17a180786b69acc140d282b71a49"
    }
   }
  },
  "language_info": {
   "codemirror_mode": {
    "name": "ipython",
    "version": 3
   },
   "file_extension": ".py",
   "mimetype": "text/x-python",
   "name": "python",
   "nbconvert_exporter": "python",
   "pygments_lexer": "ipython3",
   "version": "3.9.2-final"
  }
 },
 "nbformat": 4,
 "nbformat_minor": 4
}